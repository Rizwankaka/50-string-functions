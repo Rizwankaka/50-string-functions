{
 "cells": [
  {
   "cell_type": "markdown",
   "metadata": {},
   "source": [
    "[](Stringfunc.jpeg)"
   ]
  },
  {
   "cell_type": "markdown",
   "metadata": {},
   "source": [
    "\n",
    "<img src=\"string.png\" alt=\"Alt text\" style=\"width: 8.27in; height: 11.69in;\">\n"
   ]
  },
  {
   "cell_type": "markdown",
   "metadata": {},
   "source": [
    "Author: Rizwan Rizwan \n",
    "\n",
    "[Github](https://github.com/Rizwankaka?tab=repositories)\n",
    "\n",
    "[Kaggle]( https://www.kaggle.com/rizwanrizwannazir)\n",
    "\n",
    "[Linkedin](https://www.linkedin.com/in/rizwan-rizwan-1351a650/)\n",
    "\n",
    "[Send me an email](mailto:rizwan.rewala@gmail.com)"
   ]
  },
  {
   "cell_type": "markdown",
   "metadata": {},
   "source": [
    "# String Functions\n",
    "\n",
    "These functions can be very useful for various string manipulation tasks in Python."
   ]
  },
  {
   "cell_type": "code",
   "execution_count": 72,
   "metadata": {},
   "outputs": [],
   "source": [
    "# import libraries \n",
    "import pandas as pd\n",
    "import numpy as np\n",
    "import warnings\n",
    "warnings.simplefilter(action='ignore', category=FutureWarning)"
   ]
  },
  {
   "cell_type": "markdown",
   "metadata": {},
   "source": [
    "1. `len()` - Returns the length of a string."
   ]
  },
  {
   "cell_type": "code",
   "execution_count": 4,
   "metadata": {},
   "outputs": [
    {
     "name": "stdout",
     "output_type": "stream",
     "text": [
      "12\n"
     ]
    }
   ],
   "source": [
    "s= 'Hello World'\n",
    "print(len(s))"
   ]
  },
  {
   "cell_type": "markdown",
   "metadata": {},
   "source": [
    "2. `.lower()` - Converts all characters in a string to lowercase. "
   ]
  },
  {
   "cell_type": "code",
   "execution_count": 6,
   "metadata": {},
   "outputs": [
    {
     "name": "stdout",
     "output_type": "stream",
     "text": [
      "hello world\n"
     ]
    }
   ],
   "source": [
    "s = 'Hello World'\n",
    "print(s.lower())"
   ]
  },
  {
   "cell_type": "markdown",
   "metadata": {},
   "source": [
    "3. `.upper()` - Converts all characters in a string to uppercase."
   ]
  },
  {
   "cell_type": "code",
   "execution_count": 8,
   "metadata": {},
   "outputs": [
    {
     "name": "stdout",
     "output_type": "stream",
     "text": [
      "HELLO WORLD\n"
     ]
    }
   ],
   "source": [
    "s= 'Hello World'\n",
    "print(s.upper())"
   ]
  },
  {
   "cell_type": "markdown",
   "metadata": {},
   "source": [
    "4. `.capitalize()` - Converts the first character to uppercase."
   ]
  },
  {
   "cell_type": "code",
   "execution_count": 10,
   "metadata": {},
   "outputs": [
    {
     "name": "stdout",
     "output_type": "stream",
     "text": [
      "Hello world\n"
     ]
    }
   ],
   "source": [
    "s= 'Hello world'\n",
    "print(s.capitalize())"
   ]
  },
  {
   "cell_type": "markdown",
   "metadata": {},
   "source": [
    "5. .`title()` - Converts the first character of each word to uppercase."
   ]
  },
  {
   "cell_type": "code",
   "execution_count": 11,
   "metadata": {},
   "outputs": [
    {
     "name": "stdout",
     "output_type": "stream",
     "text": [
      "Hello World\n"
     ]
    }
   ],
   "source": [
    "s= 'Hello world'\n",
    "print(s.title())"
   ]
  },
  {
   "cell_type": "markdown",
   "metadata": {},
   "source": [
    "6. `.strip()` - Removes whitespace from the beginning and end of a string."
   ]
  },
  {
   "cell_type": "code",
   "execution_count": 14,
   "metadata": {},
   "outputs": [
    {
     "name": "stdout",
     "output_type": "stream",
     "text": [
      "Hello world\n"
     ]
    }
   ],
   "source": [
    "s= '  Hello world '\n",
    "print(s.strip())"
   ]
  },
  {
   "cell_type": "markdown",
   "metadata": {},
   "source": [
    "7. `.lstrip()` - Removes whitespace from the beginning of a string."
   ]
  },
  {
   "cell_type": "code",
   "execution_count": 16,
   "metadata": {},
   "outputs": [
    {
     "name": "stdout",
     "output_type": "stream",
     "text": [
      "Hello world     \n"
     ]
    }
   ],
   "source": [
    "s= '  Hello world'\n",
    "print(s.lstrip())"
   ]
  },
  {
   "cell_type": "markdown",
   "metadata": {},
   "source": [
    "8. `.rstrip()` - Removes whitespace from the beginning of a string."
   ]
  },
  {
   "cell_type": "code",
   "execution_count": 17,
   "metadata": {},
   "outputs": [
    {
     "name": "stdout",
     "output_type": "stream",
     "text": [
      "Hello world\n"
     ]
    }
   ],
   "source": [
    "s= 'Hello world  '\n",
    "print(s.rstrip())"
   ]
  },
  {
   "cell_type": "markdown",
   "metadata": {},
   "source": [
    "9. `.split()` - Splits a string into a list where each word is a list item."
   ]
  },
  {
   "cell_type": "code",
   "execution_count": 18,
   "metadata": {},
   "outputs": [
    {
     "name": "stdout",
     "output_type": "stream",
     "text": [
      "['Hello', 'world']\n"
     ]
    }
   ],
   "source": [
    "s= 'Hello world'\n",
    "print(s.split())"
   ]
  },
  {
   "cell_type": "markdown",
   "metadata": {},
   "source": [
    "10. `.join()` - Joins the elements of an iterable to the end of the string."
   ]
  },
  {
   "cell_type": "code",
   "execution_count": 20,
   "metadata": {},
   "outputs": [
    {
     "name": "stdout",
     "output_type": "stream",
     "text": [
      "a-b-c-d-e-f\n"
     ]
    }
   ],
   "source": [
    "s= '-'\n",
    "seq = ('a', 'b', 'c', 'd', 'e', 'f')\n",
    "print(s.join(seq))"
   ]
  },
  {
   "cell_type": "markdown",
   "metadata": {},
   "source": [
    "11. `.replace(old, new)` - Replaces all occurrences of the old substring with the new substring."
   ]
  },
  {
   "cell_type": "code",
   "execution_count": 21,
   "metadata": {},
   "outputs": [
    {
     "name": "stdout",
     "output_type": "stream",
     "text": [
      "Hello universe\n"
     ]
    }
   ],
   "source": [
    "s= 'Hello world'\n",
    "print(s.replace('world', 'universe'))"
   ]
  },
  {
   "cell_type": "markdown",
   "metadata": {},
   "source": [
    "12. `.find(sub)` - Returns the lowest index in the string where the substring sub is found."
   ]
  },
  {
   "cell_type": "code",
   "execution_count": 23,
   "metadata": {},
   "outputs": [
    {
     "name": "stdout",
     "output_type": "stream",
     "text": [
      "6\n"
     ]
    }
   ],
   "source": [
    "s= 'Hello world'\n",
    "print(s.find('world'))"
   ]
  },
  {
   "cell_type": "markdown",
   "metadata": {},
   "source": [
    "13. `.count(sub)` - Returns the number of occurrences of a substring in the string."
   ]
  },
  {
   "cell_type": "code",
   "execution_count": 26,
   "metadata": {},
   "outputs": [
    {
     "name": "stdout",
     "output_type": "stream",
     "text": [
      "3\n"
     ]
    }
   ],
   "source": [
    "s= 'Hello world'\n",
    "print(s.count('l'))"
   ]
  },
  {
   "cell_type": "markdown",
   "metadata": {},
   "source": [
    "14. `.startswith(sub)` - Returns True if the string starts with the specified substring."
   ]
  },
  {
   "cell_type": "code",
   "execution_count": 30,
   "metadata": {},
   "outputs": [
    {
     "name": "stdout",
     "output_type": "stream",
     "text": [
      "True\n"
     ]
    }
   ],
   "source": [
    "s= 'Hello world'\n",
    "print(s.startswith('Hello'))"
   ]
  },
  {
   "cell_type": "markdown",
   "metadata": {},
   "source": [
    "15. .endswith(sub) - Returns True if the string ends with the specified substring."
   ]
  },
  {
   "cell_type": "code",
   "execution_count": 32,
   "metadata": {},
   "outputs": [
    {
     "name": "stdout",
     "output_type": "stream",
     "text": [
      "True\n"
     ]
    }
   ],
   "source": [
    "s= 'Hello world'\n",
    "print(s.endswith('world'))"
   ]
  },
  {
   "cell_type": "markdown",
   "metadata": {},
   "source": [
    "16. `format()` - Formats the specified value(s) and inserts them inside the string's placeholder."
   ]
  },
  {
   "cell_type": "code",
   "execution_count": 35,
   "metadata": {},
   "outputs": [
    {
     "name": "stdout",
     "output_type": "stream",
     "text": [
      "the number is 8\n"
     ]
    }
   ],
   "source": [
    "s= 'the number is {}'\n",
    "print(s.format(8))"
   ]
  },
  {
   "cell_type": "markdown",
   "metadata": {},
   "source": [
    "17. `.isalpha()` - Checks if all characters in the string are alphabetic."
   ]
  },
  {
   "cell_type": "code",
   "execution_count": 37,
   "metadata": {},
   "outputs": [
    {
     "name": "stdout",
     "output_type": "stream",
     "text": [
      "True\n"
     ]
    }
   ],
   "source": [
    "s= 'Hello'\n",
    "print(s.isalpha ()) # agar space ati hy tu wo is ko False return kre ga "
   ]
  },
  {
   "cell_type": "markdown",
   "metadata": {},
   "source": [
    "18. `.isdigit()` - Checks if all characters in the string are digits."
   ]
  },
  {
   "cell_type": "code",
   "execution_count": 42,
   "metadata": {},
   "outputs": [
    {
     "name": "stdout",
     "output_type": "stream",
     "text": [
      "True\n"
     ]
    }
   ],
   "source": [
    "s= '12344'\n",
    "print(s.isdigit())  "
   ]
  },
  {
   "cell_type": "markdown",
   "metadata": {},
   "source": [
    "19. `.isalnum()` - Checks if all characters in the string are alphanumeric (either alphabets or numbers)."
   ]
  },
  {
   "cell_type": "code",
   "execution_count": 43,
   "metadata": {},
   "outputs": [
    {
     "name": "stdout",
     "output_type": "stream",
     "text": [
      "True\n"
     ]
    }
   ],
   "source": [
    "s='A1234657'\n",
    "print(s.isalnum())"
   ]
  },
  {
   "cell_type": "markdown",
   "metadata": {},
   "source": [
    "20. `.isspace()` - Checks if all characters in the string are whitespace."
   ]
  },
  {
   "cell_type": "code",
   "execution_count": 44,
   "metadata": {},
   "outputs": [
    {
     "name": "stdout",
     "output_type": "stream",
     "text": [
      "True\n"
     ]
    }
   ],
   "source": [
    "s = '           '\n",
    "print(s.isspace ()) # agar space ati hy tu"
   ]
  },
  {
   "cell_type": "markdown",
   "metadata": {},
   "source": [
    "21. `.islower()` - Checks if all characters in the string are lowercase."
   ]
  },
  {
   "cell_type": "code",
   "execution_count": 45,
   "metadata": {},
   "outputs": [
    {
     "name": "stdout",
     "output_type": "stream",
     "text": [
      "True\n"
     ]
    }
   ],
   "source": [
    "s= 'hello world'\n",
    "print(s.islower())"
   ]
  },
  {
   "cell_type": "markdown",
   "metadata": {},
   "source": [
    "22. `.isupper()` - Checks if all characters in the string are uppercase."
   ]
  },
  {
   "cell_type": "code",
   "execution_count": 46,
   "metadata": {},
   "outputs": [
    {
     "name": "stdout",
     "output_type": "stream",
     "text": [
      "True\n"
     ]
    }
   ],
   "source": [
    "s= 'HELLO WORLD'\n",
    "print(s.isupper())"
   ]
  },
  {
   "cell_type": "markdown",
   "metadata": {},
   "source": [
    "23. `.istitle()` - Checks if the string follows the title case (each word starts with an uppercase letter)."
   ]
  },
  {
   "cell_type": "code",
   "execution_count": 47,
   "metadata": {},
   "outputs": [
    {
     "name": "stdout",
     "output_type": "stream",
     "text": [
      "True\n"
     ]
    }
   ],
   "source": [
    "s= 'Hello World'\n",
    "print(s.istitle())"
   ]
  },
  {
   "cell_type": "markdown",
   "metadata": {},
   "source": [
    "24. `.zfill(width)` - Pads the string on the left with zeros to fill the width."
   ]
  },
  {
   "cell_type": "code",
   "execution_count": 50,
   "metadata": {},
   "outputs": [
    {
     "name": "stdout",
     "output_type": "stream",
     "text": [
      "0042\n"
     ]
    }
   ],
   "source": [
    "s= '42'\n",
    "print(s.zfill(4))"
   ]
  },
  {
   "cell_type": "markdown",
   "metadata": {},
   "source": [
    "25. `.center(width[, fillchar]) `- Centers the strming, padding it with the specified character (fillchar)"
   ]
  },
  {
   "cell_type": "code",
   "execution_count": 51,
   "metadata": {},
   "outputs": [
    {
     "name": "stdout",
     "output_type": "stream",
     "text": [
      "--hello---\n"
     ]
    }
   ],
   "source": [
    "s = \"hello\"\n",
    "print(s.center(10, '-'))"
   ]
  },
  {
   "cell_type": "markdown",
   "metadata": {},
   "source": [
    "----"
   ]
  },
  {
   "cell_type": "markdown",
   "metadata": {},
   "source": [
    "26. `.append(item):` Adds an item to the end of the list."
   ]
  },
  {
   "cell_type": "code",
   "execution_count": 2,
   "metadata": {},
   "outputs": [
    {
     "name": "stdout",
     "output_type": "stream",
     "text": [
      "['a', 'b', 'c', 'd', 'e', 'f']\n"
     ]
    }
   ],
   "source": [
    "myList = ['a', 'b', 'c', 'd', 'e']\n",
    "myList.append('f')\n",
    "print(myList)"
   ]
  },
  {
   "cell_type": "markdown",
   "metadata": {},
   "source": [
    "27. `.extend(iterable):` Extends the list by appending elements from an iterable."
   ]
  },
  {
   "cell_type": "code",
   "execution_count": 3,
   "metadata": {},
   "outputs": [
    {
     "name": "stdout",
     "output_type": "stream",
     "text": [
      "[1, 2, 3, 4, 5, 6, 7, 8, 9]\n"
     ]
    }
   ],
   "source": [
    "myList =[1, 2, 3, 4, 5, 6]\n",
    "myList.extend ([7, 8, 9])\n",
    "print(myList)"
   ]
  },
  {
   "cell_type": "markdown",
   "metadata": {},
   "source": [
    "28. `.insert(index, item)`: Inserts an item at a specified position."
   ]
  },
  {
   "cell_type": "code",
   "execution_count": 9,
   "metadata": {},
   "outputs": [
    {
     "name": "stdout",
     "output_type": "stream",
     "text": [
      "[1, 'a', 3, 5, 7]\n"
     ]
    }
   ],
   "source": [
    "myList =[1, 3, 5, 7]\n",
    "myList.insert(1, 'a') # first index pe a assign hua hy\n",
    "print(myList)"
   ]
  },
  {
   "cell_type": "markdown",
   "metadata": {},
   "source": [
    "29. `.remove(item)`: Removes the first occurrence of an item."
   ]
  },
  {
   "cell_type": "code",
   "execution_count": 14,
   "metadata": {},
   "outputs": [
    {
     "name": "stdout",
     "output_type": "stream",
     "text": [
      "[1, 2, 3, 4, 5]\n"
     ]
    }
   ],
   "source": [
    "myList =[1, 2, 3, 4, 5, 6]\n",
    "myList.remove(6) # list main se koi bhi element remove krna hy tu\n",
    "print(myList)"
   ]
  },
  {
   "cell_type": "markdown",
   "metadata": {},
   "source": [
    "30. `.pop([index])`: Removes and returns the item at the index (or the last item if the index is not specified)."
   ]
  },
  {
   "cell_type": "code",
   "execution_count": 24,
   "metadata": {},
   "outputs": [
    {
     "name": "stdout",
     "output_type": "stream",
     "text": [
      "[1, 2, 3, 4, 5]\n"
     ]
    }
   ],
   "source": [
    "myList =[1, 2, 3, 4, 5, 6]\n",
    "myList.pop() # last element remove krna hy tu agr index bhi mention na kren tu\n",
    "print(myList)"
   ]
  },
  {
   "cell_type": "markdown",
   "metadata": {},
   "source": [
    "31. `.clear()`: Removes all items from the list."
   ]
  },
  {
   "cell_type": "code",
   "execution_count": 25,
   "metadata": {},
   "outputs": [
    {
     "name": "stdout",
     "output_type": "stream",
     "text": [
      "[]\n"
     ]
    }
   ],
   "source": [
    "myList =[1, 2, 3, 4, 5, 6]\n",
    "myList.clear()# sab ko remove krna hy tu from list\n",
    "print(myList)"
   ]
  },
  {
   "cell_type": "markdown",
   "metadata": {},
   "source": [
    "32. `.index(item)`: Returns the index of the first occurrence of an item."
   ]
  },
  {
   "cell_type": "code",
   "execution_count": 28,
   "metadata": {},
   "outputs": [
    {
     "name": "stdout",
     "output_type": "stream",
     "text": [
      "1\n"
     ]
    }
   ],
   "source": [
    "myList = [1, 2, 3, 2]\n",
    "myList.index(2) \n",
    "print(myList.index(2))"
   ]
  },
  {
   "cell_type": "markdown",
   "metadata": {},
   "source": [
    "**Explanation**\\\n",
    "The index() method in Python returns the index of the first occurrence of the specified value in a list. So, when you call myList.index(2) on the list [1, 2, 3, 2], it will return the index of the first occurrence of the value 2. In this list, the first 2 occurs at index 1 (since list indexing starts at 0). Therefore, the answer is 1."
   ]
  },
  {
   "cell_type": "markdown",
   "metadata": {},
   "source": [
    "33. `.count(item)`: Counts the number of occurrences of an item."
   ]
  },
  {
   "cell_type": "code",
   "execution_count": 34,
   "metadata": {},
   "outputs": [
    {
     "name": "stdout",
     "output_type": "stream",
     "text": [
      "3 [1, 2, 2, 2]\n"
     ]
    }
   ],
   "source": [
    "myList = [1, 2, 2, 2]\n",
    "count_2= myList.count(2) # count btata hy k kitni bar hy\n",
    "print(count_2, myList)"
   ]
  },
  {
   "cell_type": "markdown",
   "metadata": {},
   "source": [
    "33. `.sort(key=None, reverse=False)`: Sorts the list in ascending order by default or in descending order if reverse=True."
   ]
  },
  {
   "cell_type": "code",
   "execution_count": 35,
   "metadata": {},
   "outputs": [
    {
     "name": "stdout",
     "output_type": "stream",
     "text": [
      "[1, 2, 3, 4, 5, 6]\n"
     ]
    }
   ],
   "source": [
    "myList = [6, 3, 1, 2, 4, 5]\n",
    "myList.sort() # sort krta hy ascnending order main agr sort(reverse=True) tu descending order main\n",
    "print(myList)"
   ]
  },
  {
   "cell_type": "markdown",
   "metadata": {},
   "source": [
    "`.reverse()`: Reverses the elements of the list in place."
   ]
  },
  {
   "cell_type": "code",
   "execution_count": 36,
   "metadata": {},
   "outputs": [
    {
     "name": "stdout",
     "output_type": "stream",
     "text": [
      "[6, 5, 4, 3, 2, 1]\n"
     ]
    }
   ],
   "source": [
    "myList = [1, 2, 3, 4, 5, 6]\n",
    "myList.reverse() # reverse krta hy\n",
    "print(myList)"
   ]
  },
  {
   "cell_type": "markdown",
   "metadata": {},
   "source": [
    "34. `len(list)`: Returns the number of items in the list."
   ]
  },
  {
   "cell_type": "code",
   "execution_count": 37,
   "metadata": {},
   "outputs": [
    {
     "name": "stdout",
     "output_type": "stream",
     "text": [
      "6\n"
     ]
    }
   ],
   "source": [
    "myList = [1, 2, 3, 4, 5, 6]\n",
    "print(len(myList)) # length btata hy"
   ]
  },
  {
   "cell_type": "markdown",
   "metadata": {},
   "source": [
    "35. `max(list)`: Returns the largest item in the list."
   ]
  },
  {
   "cell_type": "code",
   "execution_count": 39,
   "metadata": {},
   "outputs": [
    {
     "name": "stdout",
     "output_type": "stream",
     "text": [
      "10\n"
     ]
    }
   ],
   "source": [
    "myList = [1, 2, 3, 4, 5, 10]\n",
    "print(max(myList)) # max btata hy list entry main se"
   ]
  },
  {
   "cell_type": "markdown",
   "metadata": {},
   "source": [
    "36. `min(list`): Returns the smallest item in the list."
   ]
  },
  {
   "cell_type": "code",
   "execution_count": 40,
   "metadata": {},
   "outputs": [
    {
     "name": "stdout",
     "output_type": "stream",
     "text": [
      "-4\n"
     ]
    }
   ],
   "source": [
    "myList = [-4, 2, 3, 4, 5, 10]\n",
    "print(min(myList)) # min btata hy list entry main se"
   ]
  },
  {
   "cell_type": "markdown",
   "metadata": {},
   "source": [
    "37. `sum(list)`: Returns the sum of all elements in the list."
   ]
  },
  {
   "cell_type": "code",
   "execution_count": 41,
   "metadata": {},
   "outputs": [
    {
     "name": "stdout",
     "output_type": "stream",
     "text": [
      "55\n"
     ]
    }
   ],
   "source": [
    "myList = [1, 2, 3, 4, 5, 6, 7, 8, 9, 10]\n",
    "print(sum(myList)) # sum btata hy list main se"
   ]
  },
  {
   "cell_type": "markdown",
   "metadata": {},
   "source": [
    "38. `all(list)`: Returns True if all elements of the list are true (or if the list is empty)."
   ]
  },
  {
   "cell_type": "code",
   "execution_count": 42,
   "metadata": {},
   "outputs": [
    {
     "name": "stdout",
     "output_type": "stream",
     "text": [
      "True\n"
     ]
    }
   ],
   "source": [
    "myList = [1, 2, 3, 4, 5, 6]\n",
    "print(all(myList)) # all btata hy k kya list main koi bhi element false hy tu false return krega"
   ]
  },
  {
   "cell_type": "code",
   "execution_count": 43,
   "metadata": {},
   "outputs": [
    {
     "name": "stdout",
     "output_type": "stream",
     "text": [
      "False\n"
     ]
    }
   ],
   "source": [
    "myList= [1, 2, 3, 4, False, 6]\n",
    "print(all(myList))"
   ]
  },
  {
   "cell_type": "markdown",
   "metadata": {},
   "source": [
    "39. `any(list)`: Returns True if any element of the list is true. If the list is empty, returns False."
   ]
  },
  {
   "cell_type": "code",
   "execution_count": 45,
   "metadata": {},
   "outputs": [
    {
     "name": "stdout",
     "output_type": "stream",
     "text": [
      "True\n"
     ]
    }
   ],
   "source": [
    "myList = [False, True, False, False, False, False]\n",
    "print(any(myList)) # any btata hy k kya list main koi bhi element true hy tu true return krega"
   ]
  },
  {
   "cell_type": "markdown",
   "metadata": {},
   "source": [
    "40. `list(iterable)`: Converts an iterable to a list."
   ]
  },
  {
   "cell_type": "code",
   "execution_count": 46,
   "metadata": {},
   "outputs": [
    {
     "name": "stdout",
     "output_type": "stream",
     "text": [
      "[1, 2, 3, 4, 5, 6]\n"
     ]
    }
   ],
   "source": [
    "myTuple = (1, 2, 3, 4, 5, 6)\n",
    "print(list(myTuple)) # tuple ko list main convert krta hy"
   ]
  },
  {
   "cell_type": "markdown",
   "metadata": {},
   "source": [
    "41. `sorted(list, key=None, reverse=False)`: Returns a new sorted list from the elements in the iterable."
   ]
  },
  {
   "cell_type": "code",
   "execution_count": 48,
   "metadata": {},
   "outputs": [
    {
     "name": "stdout",
     "output_type": "stream",
     "text": [
      "[-2, 1, 1, 2, 4, 5]\n"
     ]
    }
   ],
   "source": [
    "myList = [1, -2, 1, 4, 2, 5]\n",
    "print(sorted(myList)) # list ko sort krta hy"
   ]
  },
  {
   "cell_type": "markdown",
   "metadata": {},
   "source": [
    "42. `reversed(list)`: Returns a reverse iterator over the list."
   ]
  },
  {
   "cell_type": "code",
   "execution_count": 50,
   "metadata": {},
   "outputs": [
    {
     "name": "stdout",
     "output_type": "stream",
     "text": [
      "[6, 5, 4, 3, 2, 1]\n"
     ]
    }
   ],
   "source": [
    "myList = [1, 2, 3, 4, 5, 6]\n",
    "print(list(reversed(myList))) # list ko reverse krta hy"
   ]
  },
  {
   "cell_type": "markdown",
   "metadata": {},
   "source": [
    "43. `enumerate(list, start=0)`: Returns an enumerate object."
   ]
  },
  {
   "cell_type": "code",
   "execution_count": 52,
   "metadata": {},
   "outputs": [
    {
     "name": "stdout",
     "output_type": "stream",
     "text": [
      "[(0, 'a'), (1, 'b'), (2, 'c')]\n"
     ]
    }
   ],
   "source": [
    "myList = ['a', 'b', 'c']\n",
    "print(list(enumerate(myList))) # list ko enumerate krta hy"
   ]
  },
  {
   "cell_type": "markdown",
   "metadata": {},
   "source": [
    "44. `zip(*iterables)`: Returns an iterator of tuples, where the i-th tuple contains the i-th element from each of the argument sequences or iterables."
   ]
  },
  {
   "cell_type": "code",
   "execution_count": 53,
   "metadata": {},
   "outputs": [
    {
     "name": "stdout",
     "output_type": "stream",
     "text": [
      "[(1, 'a'), (2, 'b'), (3, 'c')]\n"
     ]
    }
   ],
   "source": [
    "list1 = [1, 2, 3]\n",
    "list2 = ['a', 'b', 'c']\n",
    "print(list(zip(list1, list2))) # list ko zip krta hy"
   ]
  },
  {
   "cell_type": "markdown",
   "metadata": {},
   "source": [
    "45. str.swapcase(): Swaps the case of all characters in the string (lowercase to uppercase and vice versa)."
   ]
  },
  {
   "cell_type": "code",
   "execution_count": 55,
   "metadata": {},
   "outputs": [
    {
     "name": "stdout",
     "output_type": "stream",
     "text": [
      "Hello World\n"
     ]
    }
   ],
   "source": [
    "s= 'hELLO wORLD'\n",
    "print(s.swapcase()) # upper ko lower krta hy aur lower ko upper"
   ]
  },
  {
   "cell_type": "markdown",
   "metadata": {},
   "source": [
    "46. `str.startswith(prefix)`: Returns True if the string starts with the specified prefix."
   ]
  },
  {
   "cell_type": "code",
   "execution_count": 56,
   "metadata": {},
   "outputs": [
    {
     "name": "stdout",
     "output_type": "stream",
     "text": [
      "Python is powerful does not start with Java\n"
     ]
    }
   ],
   "source": [
    "string2 = \"Python is powerful\"\n",
    "prefix2 = \"Java\"\n",
    "\n",
    "if string2.startswith(prefix2):\n",
    "    print(f\"{string2} starts with {prefix2}\")\n",
    "else:\n",
    "    print(f\"{string2} does not start with {prefix2}\")"
   ]
  },
  {
   "cell_type": "markdown",
   "metadata": {},
   "source": [
    "47. `str.isascii()`: Checks if all characters are ASCII."
   ]
  },
  {
   "cell_type": "code",
   "execution_count": 64,
   "metadata": {},
   "outputs": [
    {
     "name": "stdout",
     "output_type": "stream",
     "text": [
      "True\n"
     ]
    }
   ],
   "source": [
    "s= 'Hello World!'\n",
    "print(s.isascii()) # agar ascii hy tu true return krega: is main ! ascii main hai"
   ]
  },
  {
   "cell_type": "markdown",
   "metadata": {},
   "source": [
    "48. `str.isdigit()`: Checks if all characters are digits"
   ]
  },
  {
   "cell_type": "code",
   "execution_count": 66,
   "metadata": {},
   "outputs": [
    {
     "data": {
      "text/plain": [
       "False"
      ]
     },
     "execution_count": 66,
     "metadata": {},
     "output_type": "execute_result"
    }
   ],
   "source": [
    "s = [1, 2, 3, 4, 'a', 'b', 'c', 'd', 'e', 'f']\n",
    "all(isinstance(x, str) and x.isdigit() for x in s) # agar sari string digit hy tu true return krega"
   ]
  },
  {
   "cell_type": "markdown",
   "metadata": {},
   "source": [
    "49. `isidentifier()` - Returns True if the string is a valid Python identifier, False otherwise."
   ]
  },
  {
   "cell_type": "code",
   "execution_count": 68,
   "metadata": {},
   "outputs": [
    {
     "name": "stdout",
     "output_type": "stream",
     "text": [
      "True\n",
      "False\n"
     ]
    }
   ],
   "source": [
    "s= 'hello'\n",
    "print(s.isidentifier()) # agar identifier hy tu true return krega\n",
    "\n",
    "# example of invalid identifier\n",
    "s= 'hello world' # invalid identifier hain because it contains space\n",
    "print(s.isidentifier()) "
   ]
  },
  {
   "cell_type": "markdown",
   "metadata": {},
   "source": [
    "50. `ord(c)`: Converts a character to its Unicode code."
   ]
  },
  {
   "cell_type": "code",
   "execution_count": 71,
   "metadata": {},
   "outputs": [
    {
     "name": "stdout",
     "output_type": "stream",
     "text": [
      "97\n"
     ]
    }
   ],
   "source": [
    "print(ord('a'))"
   ]
  }
 ],
 "metadata": {
  "kernelspec": {
   "display_name": "eda_env",
   "language": "python",
   "name": "python3"
  },
  "language_info": {
   "codemirror_mode": {
    "name": "ipython",
    "version": 3
   },
   "file_extension": ".py",
   "mimetype": "text/x-python",
   "name": "python",
   "nbconvert_exporter": "python",
   "pygments_lexer": "ipython3",
   "version": "3.10.12"
  }
 },
 "nbformat": 4,
 "nbformat_minor": 2
}
